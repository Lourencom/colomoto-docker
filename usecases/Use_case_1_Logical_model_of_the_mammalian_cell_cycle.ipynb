{
 "cells": [
  {
   "cell_type": "markdown",
   "metadata": {},
   "source": [
    "This notebook demonstrates how to perform the following workflow:\n",
    "* Find the stable states of a GINsim model,\n",
    "* Export the model in NuSMV format,\n",
    "* Add properties to be checked to the exported file,\n",
    "* Use NuSMV to check if the model satisfies the properties,\n",
    "* Create a simplified report of NuSMV results.\n",
    "\n",
    "Analysis will be performed on the logical model \"MODEL1611230001 - Traynard2016\" of the mammalian cell cycle regulation, available on the BioModels (SBML format:http://www.ebi.ac.uk/biomodels-main/MODEL1611230001) and GINsim (GINsim format:http://ginsim.org/node/189) repositories.\n",
    "\n",
    "![Mammalian cell cycle](http://ginsim.org/sites/default/files/Traynard_MultiLevelMamCC_Oct2015.png)\n",
    "\n",
    "In this use case, we will directly use the model in GINsim format, obtained from the GINsim repository."
   ]
  },
  {
   "cell_type": "markdown",
   "metadata": {},
   "source": [
    "## Preparation"
   ]
  },
  {
   "cell_type": "code",
   "execution_count": 1,
   "metadata": {
    "collapsed": true
   },
   "outputs": [],
   "source": [
    "import os, os.path, time, subprocess"
   ]
  },
  {
   "cell_type": "code",
   "execution_count": 2,
   "metadata": {
    "collapsed": true
   },
   "outputs": [],
   "source": [
    "BASEDIR = os.getcwd()\n",
    "OUTDIR = time.strftime(\"%Y%m%d%H%M%S_output\")\n",
    "os.mkdir(OUTDIR)"
   ]
  },
  {
   "cell_type": "code",
   "execution_count": 3,
   "metadata": {
    "collapsed": true
   },
   "outputs": [],
   "source": [
    "# I/O Files\n",
    "MODELDIR = \"snakemake/Models/2016_CellCycle_Traynard/\"\n",
    "ginsimModel = \"Traynard_MultiLevel_MamCC_Apr2016.zginml\""
   ]
  },
  {
   "cell_type": "markdown",
   "metadata": {},
   "source": [
    "## Find the stable states of a GINsim model"
   ]
  },
  {
   "cell_type": "markdown",
   "metadata": {},
   "source": [
    "First we need to build the command to execute."
   ]
  },
  {
   "cell_type": "code",
   "execution_count": 4,
   "metadata": {},
   "outputs": [
    {
     "name": "stdout",
     "output_type": "stream",
     "text": [
      "GINsim -s snakemake/Scripts/ginsim_find_stable_states.py snakemake/Models/2016_CellCycle_Traynard/Traynard_MultiLevel_MamCC_Apr2016.zginml\n"
     ]
    }
   ],
   "source": [
    "GINSIM = \"GINsim\" # available in docker image\n",
    "GINSIM_FIND_STABLE_STATES = \"snakemake/Scripts/ginsim_find_stable_states.py\"\n",
    "\n",
    "cmd1 = [GINSIM, \"-s\", GINSIM_FIND_STABLE_STATES, os.path.join(MODELDIR, ginsimModel)]\n",
    "print(\" \".join(cmd1))"
   ]
  },
  {
   "cell_type": "markdown",
   "metadata": {},
   "source": [
    "Next step is to execute the script."
   ]
  },
  {
   "cell_type": "code",
   "execution_count": 5,
   "metadata": {
    "collapsed": true
   },
   "outputs": [],
   "source": [
    "outputFileSS = os.path.join(OUTDIR, \"Traynard_MultiLevel_MamCC_Apr2016_stable-states.txt\")\n",
    "with open(outputFileSS, \"w\") as fout:\n",
    "    subprocess.call(cmd1, stdout=fout)"
   ]
  },
  {
   "cell_type": "markdown",
   "metadata": {},
   "source": [
    "Output is available in this file:"
   ]
  },
  {
   "cell_type": "code",
   "execution_count": 6,
   "metadata": {},
   "outputs": [
    {
     "name": "stdout",
     "output_type": "stream",
     "text": [
      "20170725074154_output/Traynard_MultiLevel_MamCC_Apr2016_stable-states.txt\n"
     ]
    }
   ],
   "source": [
    "print(outputFileSS)"
   ]
  },
  {
   "cell_type": "markdown",
   "metadata": {},
   "source": [
    "Finally, as the file is quite small, we can open it and print its content in this notebook."
   ]
  },
  {
   "cell_type": "code",
   "execution_count": 7,
   "metadata": {},
   "outputs": [
    {
     "name": "stdout",
     "output_type": "stream",
     "text": [
      "CycD Rb E2F CycE CycA CycB p27 Cdc20 Cdh1 UbcH10 Skp2 \n",
      "0200-020100\n",
      "\n"
     ]
    }
   ],
   "source": [
    "with open(outputFileSS, 'r') as fin:\n",
    "    print(fin.read())"
   ]
  },
  {
   "cell_type": "markdown",
   "metadata": {},
   "source": [
    "For this model, we find only one stable state."
   ]
  },
  {
   "cell_type": "markdown",
   "metadata": {},
   "source": [
    "## Export the model in NuSMV format"
   ]
  },
  {
   "cell_type": "markdown",
   "metadata": {},
   "source": [
    "First we need to build the command to execute."
   ]
  },
  {
   "cell_type": "code",
   "execution_count": 8,
   "metadata": {},
   "outputs": [
    {
     "name": "stdout",
     "output_type": "stream",
     "text": [
      "GINsim -s snakemake/Scripts/ginsim_export_as_NuSMV.py snakemake/Models/2016_CellCycle_Traynard/Traynard_MultiLevel_MamCC_Apr2016.zginml 20170725074154_output/Traynard_MultiLevel_MamCC_Apr2016_export.smv\n"
     ]
    }
   ],
   "source": [
    "GINSIM = \"GINsim\" # available in docker image\n",
    "GINSIM_EXPORT_AS_NUSMV = \"snakemake/Scripts/ginsim_export_as_NuSMV.py\"\n",
    "\n",
    "modelExportNuSMV = os.path.join(OUTDIR, \"Traynard_MultiLevel_MamCC_Apr2016_export.smv\")\n",
    "\n",
    "cmd2 = [GINSIM, \"-s\", GINSIM_EXPORT_AS_NUSMV, os.path.join(MODELDIR, ginsimModel), modelExportNuSMV]\n",
    "print(\" \".join(cmd2))"
   ]
  },
  {
   "cell_type": "markdown",
   "metadata": {},
   "source": [
    "Next step is to execute the script."
   ]
  },
  {
   "cell_type": "code",
   "execution_count": 9,
   "metadata": {},
   "outputs": [
    {
     "data": {
      "text/plain": [
       "0"
      ]
     },
     "execution_count": 9,
     "metadata": {},
     "output_type": "execute_result"
    }
   ],
   "source": [
    "subprocess.call(cmd2)"
   ]
  },
  {
   "cell_type": "markdown",
   "metadata": {},
   "source": [
    "Output is available in this file:"
   ]
  },
  {
   "cell_type": "code",
   "execution_count": 10,
   "metadata": {},
   "outputs": [
    {
     "name": "stdout",
     "output_type": "stream",
     "text": [
      "20170725074154_output/Traynard_MultiLevel_MamCC_Apr2016_export.smv\n"
     ]
    }
   ],
   "source": [
    "print(modelExportNuSMV)"
   ]
  },
  {
   "cell_type": "markdown",
   "metadata": {},
   "source": [
    "## Add properties to be checked to the exported file"
   ]
  },
  {
   "cell_type": "code",
   "execution_count": 11,
   "metadata": {
    "collapsed": true
   },
   "outputs": [],
   "source": [
    "# One file containing the exported model\n",
    "modelExportNuSMV = os.path.join(OUTDIR, \"Traynard_MultiLevel_MamCC_Apr2016_export.smv\")\n",
    "# One file containing the properties to be checked\n",
    "propertiesFile = os.path.join(MODELDIR, \"Traynard_MultiLevel_MamCC_Apr2016_property.smv\")\n",
    "\n",
    "# Naming the output file\n",
    "nusmvModelwProp = os.path.join(OUTDIR, \"Traynard_MultiLevel_MamCC_Apr2016_model.smv\")"
   ]
  },
  {
   "cell_type": "markdown",
   "metadata": {},
   "source": [
    "[TODO] Explanation of the syntax of properties."
   ]
  },
  {
   "cell_type": "code",
   "execution_count": 12,
   "metadata": {
    "collapsed": true
   },
   "outputs": [],
   "source": [
    "import fileinput\n",
    "# Concatenate the property at the end of the model\n",
    "with open(nusmvModelwProp, 'w') as fout:\n",
    "    fin = fileinput.input(files=(modelExportNuSMV, propertiesFile))\n",
    "    for line in fin:\n",
    "        fout.write(line)\n",
    "    fin.close()"
   ]
  },
  {
   "cell_type": "markdown",
   "metadata": {},
   "source": [
    "Output is available in this file:"
   ]
  },
  {
   "cell_type": "code",
   "execution_count": 13,
   "metadata": {},
   "outputs": [
    {
     "name": "stdout",
     "output_type": "stream",
     "text": [
      "20170725074154_output/Traynard_MultiLevel_MamCC_Apr2016_model.smv\n"
     ]
    }
   ],
   "source": [
    "print(nusmvModelwProp)"
   ]
  },
  {
   "cell_type": "markdown",
   "metadata": {},
   "source": [
    "## Use NuSMV to check if the model satisfies the properties"
   ]
  },
  {
   "cell_type": "code",
   "execution_count": 14,
   "metadata": {},
   "outputs": [
    {
     "name": "stdout",
     "output_type": "stream",
     "text": [
      "NuSMV 20170725074154_output/Traynard_MultiLevel_MamCC_Apr2016_model.smv\n"
     ]
    }
   ],
   "source": [
    "NUSMV = \"NuSMV\" # available in docker image\n",
    "nusmvModelwProp = os.path.join(OUTDIR, \"Traynard_MultiLevel_MamCC_Apr2016_model.smv\")\n",
    "\n",
    "cmdNuSMV = [NUSMV, nusmvModelwProp]\n",
    "print(\" \".join(cmdNuSMV))"
   ]
  },
  {
   "cell_type": "code",
   "execution_count": 15,
   "metadata": {
    "collapsed": true
   },
   "outputs": [],
   "source": [
    "outputFileNuSMV = os.path.join(OUTDIR, \"Traynard_MultiLevel_MamCC_Apr2016_output.txt\")\n",
    "with open(outputFileNuSMV, \"w\") as fout:\n",
    "    subprocess.call(cmdNuSMV, stdout=fout)"
   ]
  },
  {
   "cell_type": "markdown",
   "metadata": {},
   "source": [
    "Output is available in this file:"
   ]
  },
  {
   "cell_type": "code",
   "execution_count": 16,
   "metadata": {},
   "outputs": [
    {
     "name": "stdout",
     "output_type": "stream",
     "text": [
      "20170725074154_output/Traynard_MultiLevel_MamCC_Apr2016_output.txt\n"
     ]
    }
   ],
   "source": [
    "print(outputFileNuSMV)"
   ]
  },
  {
   "cell_type": "markdown",
   "metadata": {},
   "source": [
    "## Create a simplified report of NuSMV results"
   ]
  },
  {
   "cell_type": "code",
   "execution_count": 17,
   "metadata": {},
   "outputs": [
    {
     "name": "stdout",
     "output_type": "stream",
     "text": [
      "python snakemake/Scripts/nusmv_report_all_tests.py -o 20170725074154_output/Traynard_MultiLevel_MamCC_Apr2016_report.txt 20170725074154_output/Traynard_MultiLevel_MamCC_Apr2016_output.txt\n"
     ]
    }
   ],
   "source": [
    "NUSMV_REPORT = \"snakemake/Scripts/nusmv_report_all_tests.py\"\n",
    "outputFileNuSMV = os.path.join(OUTDIR, \"Traynard_MultiLevel_MamCC_Apr2016_output.txt\")\n",
    "reportFile = os.path.join(OUTDIR, \"Traynard_MultiLevel_MamCC_Apr2016_report.txt\")\n",
    "\n",
    "cmdReport = [\"python\", NUSMV_REPORT, \"-o\", reportFile, outputFileNuSMV]\n",
    "print(\" \".join(cmdReport))"
   ]
  },
  {
   "cell_type": "code",
   "execution_count": 18,
   "metadata": {},
   "outputs": [
    {
     "data": {
      "text/plain": [
       "0"
      ]
     },
     "execution_count": 18,
     "metadata": {},
     "output_type": "execute_result"
    }
   ],
   "source": [
    "subprocess.call(cmdReport)"
   ]
  },
  {
   "cell_type": "markdown",
   "metadata": {},
   "source": [
    "Print report."
   ]
  },
  {
   "cell_type": "code",
   "execution_count": 19,
   "metadata": {},
   "outputs": [
    {
     "name": "stdout",
     "output_type": "stream",
     "text": [
      "File\tSpecification\tOutcome\n",
      "20170725074154_output/Traynard_MultiLevel_MamCC_Apr2016_output.txt\t!E [ (((CycE = 0 & CycA = 0) & CycB = 0) & Cycle1) U ((((CycE = 1 & CycA = 0) & CycB = 0) & Cycle1) & E [ (((CycE = 1 & CycA = 0) & CycB = 0) & Cycle1) U ((((CycE = 1 & CycA = 1) & CycB = 0) & Cycle1) & E [ (((CycE = 1 & CycA = 1) & CycB = 0) & Cycle1) U ((((CycE = 0 & CycA = 1) & CycB = 0) & Cycle1) & E [ (((CycE = 0 & CycA = 1) & CycB = 0) & Cycle1) U ((((CycE = 0 & CycA = 1) & CycB = 1) & Cycle1) & E [ (((CycE = 0 & CycA = 1) & CycB = 1) & Cycle1) U ((((CycE = 0 & CycA = 0) & CycB = 1) & Cycle1) & E [ (((CycE = 0 & CycA = 0) & CycB = 1) & Cycle1) U (((CycE = 0 & CycA = 0) & CycB = 0) & Cycle1) ] ) ] ) ] ) ] ) ] ) ] \ttrue\n",
      "20170725074154_output/Traynard_MultiLevel_MamCC_Apr2016_output.txt\t!E [ (((((((((((CycD = 1 & Rb = 1) & E2F = 0) & CycE = 0) & CycA = 0) & CycB = 0) & Cdh1 = 1) & Cdc20 = 0) & UbcH10 = 0) & p27 = 1) & Skp2 = 1) & Cycle1) U ((((((((((((CycD = 1 & Rb = 1) & E2F = 1) & CycE = 0) & CycA = 0) & CycB = 0) & Cdh1 = 1) & Cdc20 = 0) & UbcH10 = 0) & p27 = 1) & Skp2 = 1) & Cycle1) & E [ (((((((((((CycD = 1 & Rb = 1) & E2F = 1) & CycE = 0) & CycA = 0) & CycB = 0) & Cdh1 = 1) & Cdc20 = 0) & UbcH10 = 0) & p27 = 1) & Skp2 = 1) & Cycle1) U ((((((((((((CycD = 1 & Rb = 1) & E2F = 1) & CycE = 1) & CycA = 0) & CycB = 0) & Cdh1 = 1) & Cdc20 = 0) & UbcH10 = 0) & p27 = 1) & Skp2 = 1) & Cycle1) & E [ (((((((((((CycD = 1 & Rb = 1) & E2F = 1) & CycE = 1) & CycA = 0) & CycB = 0) & Cdh1 = 1) & Cdc20 = 0) & UbcH10 = 0) & p27 = 1) & Skp2 = 1) & Cycle1) U ((((((((((((CycD = 1 & Rb = 1) & E2F = 1) & CycE = 1) & CycA = 0) & CycB = 0) & Cdh1 = 1) & Cdc20 = 0) & UbcH10 = 0) & p27 = 0) & Skp2 = 1) & Cycle1) & E [ (((((((((((CycD = 1 & Rb = 1) & E2F = 1) & CycE = 1) & CycA = 0) & CycB = 0) & Cdh1 = 1) & Cdc20 = 0) & UbcH10 = 0) & p27 = 0) & Skp2 = 1) & Cycle1) U ((((((((((((CycD = 1 & Rb = 0) & E2F = 1) & CycE = 1) & CycA = 0) & CycB = 0) & Cdh1 = 1) & Cdc20 = 0) & UbcH10 = 0) & p27 = 0) & Skp2 = 1) & Cycle1) & E [ (((((((((((CycD = 1 & Rb = 0) & E2F = 1) & CycE = 1) & CycA = 0) & CycB = 0) & Cdh1 = 1) & Cdc20 = 0) & UbcH10 = 0) & p27 = 0) & Skp2 = 1) & Cycle1) U ((((((((((((CycD = 1 & Rb = 0) & E2F = 1) & CycE = 1) & CycA = 1) & CycB = 0) & Cdh1 = 1) & Cdc20 = 0) & UbcH10 = 0) & p27 = 0) & Skp2 = 1) & Cycle1) & E [ (((((((((((CycD = 1 & Rb = 0) & E2F = 1) & CycE = 1) & CycA = 1) & CycB = 0) & Cdh1 = 1) & Cdc20 = 0) & UbcH10 = 0) & p27 = 0) & Skp2 = 1) & Cycle1) U ((((((((((((CycD = 1 & Rb = 0) & E2F = 1) & CycE = 1) & CycA = 1) & CycB = 0) & Cdh1 = 0) & Cdc20 = 0) & UbcH10 = 0) & p27 = 0) & Skp2 = 1) & Cycle1) & E [ (((((((((((CycD = 1 & Rb = 0) & E2F = 1) & CycE = 1) & CycA = 1) & CycB = 0) & Cdh1 = 0) & Cdc20 = 0) & UbcH10 = 0) & p27 = 0) & Skp2 = 1) & Cycle1) U ((((((((((((CycD = 1 & Rb = 0) & E2F = 0) & CycE = 1) & CycA = 1) & CycB = 0) & Cdh1 = 0) & Cdc20 = 0) & UbcH10 = 0) & p27 = 0) & Skp2 = 1) & Cycle1) & E [ (((((((((((CycD = 1 & Rb = 0) & E2F = 0) & CycE = 1) & CycA = 1) & CycB = 0) & Cdh1 = 0) & Cdc20 = 0) & UbcH10 = 0) & p27 = 0) & Skp2 = 1) & Cycle1) U ((((((((((((CycD = 1 & Rb = 0) & E2F = 0) & CycE = 0) & CycA = 1) & CycB = 0) & Cdh1 = 0) & Cdc20 = 0) & UbcH10 = 0) & p27 = 0) & Skp2 = 1) & Cycle1) & E [ (((((((((((CycD = 1 & Rb = 0) & E2F = 0) & CycE = 0) & CycA = 1) & CycB = 0) & Cdh1 = 0) & Cdc20 = 0) & UbcH10 = 0) & p27 = 0) & Skp2 = 1) & Cycle1) U ((((((((((((CycD = 1 & Rb = 0) & E2F = 0) & CycE = 0) & CycA = 1) & CycB = 1) & Cdh1 = 0) & Cdc20 = 0) & UbcH10 = 0) & p27 = 0) & Skp2 = 1) & Cycle1) & E [ (((((((((((CycD = 1 & Rb = 0) & E2F = 0) & CycE = 0) & CycA = 1) & CycB = 1) & Cdh1 = 0) & Cdc20 = 0) & UbcH10 = 0) & p27 = 0) & Skp2 = 1) & Cycle1) U ((((((((((((CycD = 1 & Rb = 0) & E2F = 0) & CycE = 0) & CycA = 1) & CycB = 1) & Cdh1 = 0) & Cdc20 = 0) & UbcH10 = 1) & p27 = 0) & Skp2 = 1) & Cycle1) & E [ (((((((((((CycD = 1 & Rb = 0) & E2F = 0) & CycE = 0) & CycA = 1) & CycB = 1) & Cdh1 = 0) & Cdc20 = 0) & UbcH10 = 1) & p27 = 0) & Skp2 = 1) & Cycle1) U ((((((((((((CycD = 1 & Rb = 0) & E2F = 0) & CycE = 0) & CycA = 1) & CycB = 1) & Cdh1 = 0) & Cdc20 = 1) & UbcH10 = 1) & p27 = 0) & Skp2 = 1) & Cycle1) & E [ (((((((((((CycD = 1 & Rb = 0) & E2F = 0) & CycE = 0) & CycA = 1) & CycB = 1) & Cdh1 = 0) & Cdc20 = 1) & UbcH10 = 1) & p27 = 0) & Skp2 = 1) & Cycle1) U ((((((((((((CycD = 1 & Rb = 0) & E2F = 0) & CycE = 0) & CycA = 0) & CycB = 1) & Cdh1 = 0) & Cdc20 = 1) & UbcH10 = 1) & p27 = 0) & Skp2 = 1) & Cycle1) & E [ (((((((((((CycD = 1 & Rb = 0) & E2F = 0) & CycE = 0) & CycA = 0) & CycB = 1) & Cdh1 = 0) & Cdc20 = 1) & UbcH10 = 1) & p27 = 0) & Skp2 = 1) & Cycle1) U ((((((((((((CycD = 1 & Rb = 0) & E2F = 0) & CycE = 0) & CycA = 0) & CycB = 0) & Cdh1 = 0) & Cdc20 = 1) & UbcH10 = 1) & p27 = 0) & Skp2 = 1) & Cycle1) & E [ (((((((((((CycD = 1 & Rb = 0) & E2F = 0) & CycE = 0) & CycA = 0) & CycB = 0) & Cdh1 = 0) & Cdc20 = 1) & UbcH10 = 1) & p27 = 0) & Skp2 = 1) & Cycle1) U ((((((((((((CycD = 1 & Rb = 0) & E2F = 0) & CycE = 0) & CycA = 0) & CycB = 0) & Cdh1 = 0) & Cdc20 = 0) & UbcH10 = 1) & p27 = 0) & Skp2 = 1) & Cycle1) & E [ (((((((((((CycD = 1 & Rb = 0) & E2F = 0) & CycE = 0) & CycA = 0) & CycB = 0) & Cdh1 = 0) & Cdc20 = 0) & UbcH10 = 1) & p27 = 0) & Skp2 = 1) & Cycle1) U ((((((((((((CycD = 1 & Rb = 0) & E2F = 0) & CycE = 0) & CycA = 0) & CycB = 0) & Cdh1 = 0) & Cdc20 = 0) & UbcH10 = 1) & p27 = 1) & Skp2 = 1) & Cycle1) & E [ (((((((((((CycD = 1 & Rb = 0) & E2F = 0) & CycE = 0) & CycA = 0) & CycB = 0) & Cdh1 = 0) & Cdc20 = 0) & UbcH10 = 1) & p27 = 1) & Skp2 = 1) & Cycle1) U ((((((((((((CycD = 1 & Rb = 1) & E2F = 0) & CycE = 0) & CycA = 0) & CycB = 0) & Cdh1 = 0) & Cdc20 = 0) & UbcH10 = 1) & p27 = 1) & Skp2 = 1) & Cycle1) & E [ (((((((((((CycD = 1 & Rb = 1) & E2F = 0) & CycE = 0) & CycA = 0) & CycB = 0) & Cdh1 = 0) & Cdc20 = 0) & UbcH10 = 1) & p27 = 1) & Skp2 = 1) & Cycle1) U (((((((((((CycD = 1 & Rb = 1) & E2F = 0) & CycE = 0) & CycA = 0) & CycB = 0) & Cdh1 = 1) & Cdc20 = 0) & UbcH10 = 1) & p27 = 1) & Skp2 = 1) & Cycle1) ] ) ] ) ] ) ] ) ] ) ] ) ] ) ] ) ] ) ] ) ] ) ] ) ] ) ] ) ] ) ] ) ] \ttrue\n",
      "20170725074154_output/Traynard_MultiLevel_MamCC_Apr2016_output.txt\t!E [ (((CycE = 0 & CycA = 0) & CycB = 0) & Cycle1) U ((((CycE = 1 & CycA = 0) & CycB = 0) & Cycle1) & E [ (((CycE = 1 & CycA = 0) & CycB = 0) & Cycle1) U ((((CycE = 1 & CycA = 1) & CycB = 0) & Cycle1) & E [ (((CycE = 1 & CycA = 1) & CycB = 0) & Cycle1) U ((((CycE = 0 & CycA = 1) & CycB = 0) & Cycle1) & E [ (((CycE = 0 & CycA = 1) & CycB = 0) & Cycle1) U (((CycE = 1 & CycA = 1) & CycB = 0) & Cycle1) ] ) ] ) ] ) ] \ttrue\n",
      "20170725074154_output/Traynard_MultiLevel_MamCC_Apr2016_output.txt\t!E [ (((CycE = 0 & CycA = 0) & CycB = 0) & Cycle1) U ((((CycE = 1 & CycA = 0) & CycB = 0) & Cycle1) & E [ (((CycE = 1 & CycA = 0) & CycB = 0) & Cycle1) U ((((CycE = 1 & CycA = 1) & CycB = 0) & Cycle1) & E [ (((CycE = 1 & CycA = 1) & CycB = 0) & Cycle1) U ((((CycE = 0 & CycA = 1) & CycB = 0) & Cycle1) & E [ (((CycE = 0 & CycA = 1) & CycB = 0) & Cycle1) U ((((CycE = 0 & CycA = 1) & CycB = 1) & Cycle1) & E [ (((CycE = 0 & CycA = 1) & CycB = 1) & Cycle1) U ((((CycE = 0 & CycA = 0) & CycB = 1) & Cycle1) & E [ (((CycE = 0 & CycA = 0) & CycB = 1) & Cycle1) U (((CycE = 0 & CycA = 1) & CycB = 1) & Cycle1) ] ) ] ) ] ) ] ) ] ) ] \ttrue\n",
      "20170725074154_output/Traynard_MultiLevel_MamCC_Apr2016_output.txt\t!E [ (((CycE = 0 & CycA = 0) & CycB = 0) & Cycle1) U ((((CycE = 1 & CycA = 0) & CycB = 0) & Cycle1) & E [ (((CycE = 1 & CycA = 0) & CycB = 0) & Cycle1) U ((((CycE = 1 & CycA = 1) & CycB = 0) & Cycle1) & E [ (((CycE = 1 & CycA = 1) & CycB = 0) & Cycle1) U ((((CycE = 0 & CycA = 1) & CycB = 0) & Cycle1) & E [ (((CycE = 0 & CycA = 1) & CycB = 0) & Cycle1) U ((((CycE = 0 & CycA = 1) & CycB = 1) & Cycle1) & E [ (((CycE = 0 & CycA = 1) & CycB = 1) & Cycle1) U ((((CycE = 0 & CycA = 0) & CycB = 1) & Cycle1) & E [ (((CycE = 0 & CycA = 0) & CycB = 1) & Cycle1) U ((((CycE = 0 & CycA = 0) & CycB = 0) & Cycle1) & E [ (((CycE = 0 & CycA = 0) & CycB = 0) & Cycle1) U (((CycE = 0 & CycA = 0) & CycB = 1) & Cycle1) ] ) ] ) ] ) ] ) ] ) ] ) ] \ttrue\n",
      "20170725074154_output/Traynard_MultiLevel_MamCC_Apr2016_output.txt\t!E [ ((CycE = 0 & CycA = 0) & Cycle1) U (((CycE = 0 & CycA = 1) & Cycle1) & E [ ((CycE = 0 & CycA = 1) & Cycle1) U ((CycE = 1 & CycA = 1) & Cycle1) ] ) ] \ttrue\n",
      "20170725074154_output/Traynard_MultiLevel_MamCC_Apr2016_output.txt\t!E [ (((CycE = 0 & CycA = 0) & CycB = 0) & Cycle1) U ((((CycE = 1 & CycA = 0) & CycB = 0) & Cycle1) & E [ (((CycE = 1 & CycA = 0) & CycB = 0) & Cycle1) U ((((CycE = 1 & CycA = 1) & CycB = 0) & Cycle1) & E [ (((CycE = 1 & CycA = 1) & CycB = 0) & Cycle1) U ((((CycE = 1 & CycA = 1) & CycB = 1) & Cycle1) & E [ (((CycE = 1 & CycA = 1) & CycB = 1) & Cycle1) U ((((CycE = 0 & CycA = 1) & CycB = 1) & Cycle1) & E [ (((CycE = 0 & CycA = 1) & CycB = 1) & Cycle1) U ((((CycE = 0 & CycA = 0) & CycB = 1) & Cycle1) & E [ (((CycE = 0 & CycA = 0) & CycB = 1) & Cycle1) U (((CycE = 0 & CycA = 0) & CycB = 0) & Cycle1) ] ) ] ) ] ) ] ) ] ) ] \ttrue\n",
      "20170725074154_output/Traynard_MultiLevel_MamCC_Apr2016_output.txt\t!E [ (((CycE = 0 & CycA = 0) & CycB = 0) & Cycle1) U ((((CycE = 1 & CycA = 0) & CycB = 0) & Cycle1) & E [ (((CycE = 1 & CycA = 0) & CycB = 0) & Cycle1) U ((((CycE = 1 & CycA = 0) & CycB = 1) & Cycle1) & E [ (((CycE = 1 & CycA = 0) & CycB = 1) & Cycle1) U (((CycE = 1 & CycA = 1) & CycB = 1) & Cycle1) ] ) ] ) ] \ttrue\n",
      "20170725074154_output/Traynard_MultiLevel_MamCC_Apr2016_output.txt\t!E [ (((CycE = 0 & CycA = 0) & CycB = 0) & Cycle1) U ((((CycE = 1 & CycA = 0) & CycB = 0) & Cycle1) & E [ (((CycE = 1 & CycA = 0) & CycB = 0) & Cycle1) U ((((CycE = 1 & CycA = 1) & CycB = 0) & Cycle1) & E [ (((CycE = 1 & CycA = 1) & CycB = 0) & Cycle1) U ((((CycE = 0 & CycA = 1) & CycB = 0) & Cycle1) & E [ (((CycE = 0 & CycA = 1) & CycB = 0) & Cycle1) U ((((CycE = 0 & CycA = 1) & CycB = 1) & Cycle1) & E [ (((CycE = 0 & CycA = 1) & CycB = 1) & Cycle1) U ((((CycE = 0 & CycA = 1) & CycB = 0) & Cycle1) & E [ (((CycE = 0 & CycA = 1) & CycB = 0) & Cycle1) U (((CycE = 0 & CycA = 0) & CycB = 0) & Cycle1) ] ) ] ) ] ) ] ) ] ) ] \ttrue\n",
      "20170725074154_output/Traynard_MultiLevel_MamCC_Apr2016_output.txt\t!E [ (((CycE = 0 & CycA = 0) & CycB = 0) & Cycle1) U ((((CycE = 1 & CycA = 0) & CycB = 0) & Cycle1) & E [ (((CycE = 1 & CycA = 0) & CycB = 0) & Cycle1) U ((((CycE = 1 & CycA = 1) & CycB = 0) & Cycle1) & E [ (((CycE = 1 & CycA = 1) & CycB = 0) & Cycle1) U ((((CycE = 0 & CycA = 1) & CycB = 0) & Cycle1) & E [ (((CycE = 0 & CycA = 1) & CycB = 0) & Cycle1) U ((((CycE = 0 & CycA = 1) & CycB = 1) & Cycle1) & E [ (((CycE = 0 & CycA = 1) & CycB = 1) & Cycle1) U ((((CycE = 0 & CycA = 0) & CycB = 1) & Cycle1) & E [ (((CycE = 0 & CycA = 0) & CycB = 1) & Cycle1) U (((CycE = 1 & CycA = 0) & CycB = 1) & Cycle1) ] ) ] ) ] ) ] ) ] ) ] \ttrue\n",
      "20170725074154_output/Traynard_MultiLevel_MamCC_Apr2016_output.txt\t!E [ (((CycE = 0 & CycA = 0) & p27 = 1) & Cycle1) U ((((CycE = 1 & CycA = 0) & p27 = 1) & Cycle1) & E [ (((CycE = 1 & CycA = 0) & p27 = 1) & Cycle1) U ((((CycE = 1 & CycA = 0) & p27 = 0) & Cycle1) & E [ (((CycE = 1 & CycA = 0) & p27 = 0) & Cycle1) U ((((CycE = 1 & CycA = 1) & p27 = 0) & Cycle1) & E [ (((CycE = 1 & CycA = 1) & p27 = 0) & Cycle1) U (((CycE = 0 & CycA = 1) & p27 = 0) & Cycle1) ] ) ] ) ] ) ] \ttrue\n",
      "20170725074154_output/Traynard_MultiLevel_MamCC_Apr2016_output.txt\t!E [ (((CycE = 0 & CycA = 0) & p27 = 1) & Cycle1) U ((((CycE = 0 & CycA = 0) & p27 = 0) & Cycle1) & E [ (((CycE = 0 & CycA = 0) & p27 = 0) & Cycle1) U ((((CycE = 1 & CycA = 0) & p27 = 0) & Cycle1) & E [ (((CycE = 1 & CycA = 0) & p27 = 0) & Cycle1) U ((((CycE = 1 & CycA = 1) & p27 = 0) & Cycle1) & E [ (((CycE = 1 & CycA = 1) & p27 = 0) & Cycle1) U (((CycE = 0 & CycA = 1) & p27 = 0) & Cycle1) ] ) ] ) ] ) ] \ttrue\n",
      "20170725074154_output/Traynard_MultiLevel_MamCC_Apr2016_output.txt\t!E [ (((CycE = 0 & CycA = 0) & p27 = 1) & Cycle1) U ((((CycE = 1 & CycA = 0) & p27 = 1) & Cycle1) & E [ (((CycE = 1 & CycA = 0) & p27 = 1) & Cycle1) U ((((CycE = 1 & CycA = 1) & p27 = 1) & Cycle1) & E [ (((CycE = 1 & CycA = 1) & p27 = 1) & Cycle1) U ((((CycE = 1 & CycA = 1) & p27 = 0) & Cycle1) & E [ (((CycE = 1 & CycA = 1) & p27 = 0) & Cycle1) U (((CycE = 0 & CycA = 1) & p27 = 0) & Cycle1) ] ) ] ) ] ) ] \ttrue\n",
      "20170725074154_output/Traynard_MultiLevel_MamCC_Apr2016_output.txt\t!E [ (((CycA = 1 & CycB = 0) & Cdc20 = 0) & Cycle1) U ((((CycA = 1 & CycB = 1) & Cdc20 = 0) & Cycle1) & E [ (((CycA = 1 & CycB = 1) & Cdc20 = 0) & Cycle1) U ((((CycA = 1 & CycB = 1) & Cdc20 = 1) & Cycle1) & E [ (((CycA = 1 & CycB = 1) & Cdc20 = 1) & Cycle1) U ((((CycA = 0 & CycB = 1) & Cdc20 = 1) & Cycle1) & E [ (((CycA = 0 & CycB = 1) & Cdc20 = 1) & Cycle1) U ((((CycA = 0 & CycB = 0) & Cdc20 = 1) & Cycle1) & E [ (((CycA = 0 & CycB = 0) & Cdc20 = 1) & Cycle1) U (((CycA = 0 & CycB = 0) & Cdc20 = 0) & Cycle1) ] ) ] ) ] ) ] ) ] \ttrue\n",
      "20170725074154_output/Traynard_MultiLevel_MamCC_Apr2016_output.txt\t!E [ (((CycA = 1 & CycB = 0) & Cdc20 = 0) & Cycle1) U ((((CycA = 1 & CycB = 1) & Cdc20 = 0) & Cycle1) & E [ (((CycA = 1 & CycB = 1) & Cdc20 = 0) & Cycle1) U ((((CycA = 1 & CycB = 1) & Cdc20 = 1) & Cycle1) & E [ (((CycA = 1 & CycB = 1) & Cdc20 = 1) & Cycle1) U ((((CycA = 0 & CycB = 1) & Cdc20 = 1) & Cycle1) & E [ (((CycA = 0 & CycB = 1) & Cdc20 = 1) & Cycle1) U ((((CycA = 0 & CycB = 1) & Cdc20 = 0) & Cycle1) & E [ (((CycA = 0 & CycB = 1) & Cdc20 = 0) & Cycle1) U (((CycA = 0 & CycB = 0) & Cdc20 = 0) & Cycle1) ] ) ] ) ] ) ] ) ] \ttrue\n",
      "20170725074154_output/Traynard_MultiLevel_MamCC_Apr2016_output.txt\t!E [ (((CycA = 1 & CycB = 0) & Cdc20 = 0) & Cycle1) U ((((CycA = 1 & CycB = 1) & Cdc20 = 0) & Cycle1) & E [ (((CycA = 1 & CycB = 1) & Cdc20 = 0) & Cycle1) U ((((CycA = 0 & CycB = 1) & Cdc20 = 0) & Cycle1) & E [ (((CycA = 0 & CycB = 1) & Cdc20 = 0) & Cycle1) U (((CycA = 0 & CycB = 0) & Cdc20 = 0) & Cycle1) ] ) ] ) ] \ttrue\n",
      "20170725074154_output/Traynard_MultiLevel_MamCC_Apr2016_output.txt\t!E [ ((((CycA = 1 & CycB = 0) & Cdc20 = 0) & Cdh1 = 0) & Cycle1) U (((((CycA = 1 & CycB = 1) & Cdc20 = 0) & Cdh1 = 0) & Cycle1) & E [ ((((CycA = 1 & CycB = 1) & Cdc20 = 0) & Cdh1 = 0) & Cycle1) U (((((CycA = 1 & CycB = 1) & Cdc20 = 1) & Cdh1 = 0) & Cycle1) & E [ ((((CycA = 1 & CycB = 1) & Cdc20 = 1) & Cdh1 = 0) & Cycle1) U (((((CycA = 0 & CycB = 1) & Cdc20 = 1) & Cdh1 = 0) & Cycle1) & E [ ((((CycA = 0 & CycB = 1) & Cdc20 = 1) & Cdh1 = 0) & Cycle1) U (((((CycA = 0 & CycB = 0) & Cdc20 = 1) & Cdh1 = 0) & Cycle1) & E [ ((((CycA = 0 & CycB = 0) & Cdc20 = 1) & Cdh1 = 0) & Cycle1) U ((((CycA = 0 & CycB = 0) & Cdc20 = 0) & Cdh1 = 0) & Cycle1) ] ) ] ) ] ) ] ) ] \ttrue\n",
      "20170725074154_output/Traynard_MultiLevel_MamCC_Apr2016_output.txt\t!E [ ((((CycA = 1 & CycB = 0) & Cdc20 = 0) & UbcH10 = 0) & Cycle1) U (((((CycA = 1 & CycB = 1) & Cdc20 = 0) & UbcH10 = 0) & Cycle1) & E [ ((((CycA = 1 & CycB = 1) & Cdc20 = 0) & UbcH10 = 0) & Cycle1) U (((((CycA = 1 & CycB = 1) & Cdc20 = 1) & UbcH10 = 0) & Cycle1) & E [ ((((CycA = 1 & CycB = 1) & Cdc20 = 1) & UbcH10 = 0) & Cycle1) U (((((CycA = 0 & CycB = 1) & Cdc20 = 1) & UbcH10 = 0) & Cycle1) & E [ ((((CycA = 0 & CycB = 1) & Cdc20 = 1) & UbcH10 = 0) & Cycle1) U (((((CycA = 0 & CycB = 0) & Cdc20 = 1) & UbcH10 = 0) & Cycle1) & E [ ((((CycA = 0 & CycB = 0) & Cdc20 = 1) & UbcH10 = 0) & Cycle1) U ((((CycA = 0 & CycB = 0) & Cdc20 = 0) & UbcH10 = 0) & Cycle1) ] ) ] ) ] ) ] ) ] \ttrue\n",
      "\n"
     ]
    }
   ],
   "source": [
    "with open(reportFile, 'r') as fin:\n",
    "    print(fin.read())"
   ]
  }
 ],
 "metadata": {
  "kernelspec": {
   "display_name": "Python 3",
   "language": "python",
   "name": "python3"
  },
  "language_info": {
   "codemirror_mode": {
    "name": "ipython",
    "version": 3
   },
   "file_extension": ".py",
   "mimetype": "text/x-python",
   "name": "python",
   "nbconvert_exporter": "python",
   "pygments_lexer": "ipython3",
   "version": "3.5.2"
  }
 },
 "nbformat": 4,
 "nbformat_minor": 2
}
