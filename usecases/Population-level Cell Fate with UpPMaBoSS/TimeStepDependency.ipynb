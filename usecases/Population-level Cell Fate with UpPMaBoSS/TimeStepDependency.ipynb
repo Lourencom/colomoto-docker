{
 "cells": [
  {
   "cell_type": "markdown",
   "metadata": {},
   "source": [
    "The files needed for running this example are: \n",
    "CellFateModel_uppmaboss.bnd; \n",
    "CellFateModel_uppmaboss.cfg;\n",
    "CellFateModel_uppmaboss.upp"
   ]
  },
  {
   "cell_type": "code",
   "execution_count": 1,
   "metadata": {},
   "outputs": [],
   "source": [
    "import matplotlib.pyplot as plt\n",
    "import maboss"
   ]
  },
  {
   "cell_type": "markdown",
   "metadata": {},
   "source": [
    "# Simulation of the wild type model with TNF active"
   ]
  },
  {
   "cell_type": "code",
   "execution_count": null,
   "metadata": {},
   "outputs": [],
   "source": [
    "# Set up the example files\n",
    "bnd_file =\"CellFateModel_uppmaboss.bnd\"\n",
    "cfg_WT = \"CellFateModel_uppmaboss.cfg\"\n",
    "upp_file = \"CellFateModel_uppmaboss.upp\"\n",
    "workdir  = \"WT\"\n",
    "\n",
    "# Load the Wild-Type model\n",
    "model_WT = maboss.load(bnd_file, cfg_WT)\n",
    "model_48h = maboss.copy_and_update_parameters(model_WT, {'max_time':48})\n",
    "\n",
    "# for name in \"mcIAP mXIAP mROS NonACD Apoptosis Survival TNF ATP FADD cIAP FASL TNFR DISC_TNF DISC_FAS RIP1 RIP1ub RIP1K IKK CASP8 BAX BCL2 ROS MPT MOMP SMAC Cyt_c XIAP apoptosome CASP3 cFLIP\".split(' '):\n",
    "#     model_48h.network[name].is_internal = True\n",
    "\n",
    "model_48h.network.set_output(('Death','Division','NFkB'))\n",
    "run_48h = model_48h.run()\n",
    "\n",
    "run_48h.get_states_probtraj().plot()\n"
   ]
  },
  {
   "cell_type": "markdown",
   "metadata": {},
   "source": [
    "According to the results of the WT simulation, consider Time Step <= 1, because the first local extremum is at time = 1"
   ]
  },
  {
   "cell_type": "code",
   "execution_count": null,
   "metadata": {
    "scrolled": true
   },
   "outputs": [],
   "source": [
    "max_time = model_WT.param[\"max_time\"]\n",
    "time_tick = model_WT.param[\"time_tick\"]\n",
    "\n",
    "ratios = {1: \"black\", 2:\"red\", 3:\"blue\", 4:\"green\"}\n",
    "fig, ax = plt.subplots()\n",
    "for ratio,color in ratios.items():\n",
    "    print(\"Step ratio:\", ratio)\n",
    "    # Update the max step and time tick based on the WT model\n",
    "    params = {\n",
    "        'max_time': \"%g\" % (max_time/ratio),\n",
    "        \"time_tick\": \"%g\" % (time_tick/ratio)\n",
    "    }\n",
    "    step_model = maboss.copy_and_update_parameters(model_WT, params)\n",
    "\n",
    "    # Run UpPMaBoSS on the modified setup\n",
    "    rwd = \"%s_R%s\" % (workdir, ratio)\n",
    "    uppModel_step = maboss.UpdatePopulation(step_model, upp_file)\n",
    "    \n",
    "  \n",
    "    uppModel_step.setStepNumber(48*ratio)\n",
    "    \n",
    "    run_step = uppModel_step.run(rwd)\n",
    "    pop_ratios = run_step.get_population_ratios()\n",
    "    pop_ratios = pop_ratios[1:]\n",
    "    time_steps = []\n",
    "    pop_ratio_steps = []\n",
    "    for step, pop_ratio in pop_ratios.items():\n",
    "        time_steps.append(int(step)*max_time/ratio)\n",
    "        pop_ratio_steps.append(float(pop_ratio))\n",
    "    ax.plot(time_steps,pop_ratio_steps,'k.-',label='Time Step = '+str(1/ratio),c=color)\n",
    "\n",
    "\n",
    "ax.legend(loc='upper right',prop={'size':8})\n",
    "plt.show()"
   ]
  },
  {
   "cell_type": "markdown",
   "metadata": {},
   "source": [
    "The asymptotic behavior of the cell population is robust, but the time to reach the asymptotic behavior varies. "
   ]
  },
  {
   "cell_type": "markdown",
   "metadata": {},
   "source": [
    "# Simulation of the wild type model with no TNF"
   ]
  },
  {
   "cell_type": "code",
   "execution_count": null,
   "metadata": {
    "scrolled": true
   },
   "outputs": [],
   "source": [
    "#Create a model for 48h with no TNF\n",
    "\n",
    "model_48h_noTNF = maboss.copy_and_update_parameters(model_WT, {'max_time':48})\n",
    "model_48h_noTNF.network.set_istate('TNF',[1,0])\n",
    "\n",
    "for name in \"mcIAP mXIAP mROS NonACD Apoptosis Survival TNF ATP FADD cIAP FASL TNFR DISC_TNF DISC_FAS RIP1 RIP1ub RIP1K IKK CASP8 BAX BCL2 ROS MPT MOMP SMAC Cyt_c XIAP apoptosome CASP3 cFLIP\".split(' '):\n",
    "    model_48h_noTNF.network[name].is_internal = True\n",
    "\n",
    "model_48h_noTNF.network.set_output(('Death','Division','NFkB'))\n",
    "run_48h_noTNF = model_48h_noTNF.run()\n",
    "\n",
    "run_48h_noTNF.get_states_probtraj().plot()"
   ]
  },
  {
   "cell_type": "markdown",
   "metadata": {},
   "source": [
    "The simulation shows that the asymptotic solution is reached very fast and the window of variation is very small (between 0.2 and 0.3). Note that NFkB is not shown because it is always at 0. Consider also Time Step <= 1."
   ]
  },
  {
   "cell_type": "code",
   "execution_count": null,
   "metadata": {},
   "outputs": [],
   "source": [
    "model_WT_noTNF = model_WT.copy()\n",
    "model_WT_noTNF.network.set_istate('TNF',[1.0,0.0])\n",
    "ratios = {1: \"black\", 2:\"red\", 3:\"blue\", 4:\"green\"}\n",
    "fig, ax = plt.subplots()\n",
    "\n",
    "upp_sims = []\n",
    "\n",
    "for ratio,color in ratios.items():\n",
    "    print(\"Step ratio:\", ratio)\n",
    "    # Update the max step and time tick based on the WT model\n",
    "    params = {\n",
    "        'max_time': \"%g\" % (max_time/ratio),\n",
    "        \"time_tick\": \"%g\" % (time_tick/ratio)\n",
    "    }\n",
    "    step_model_noTNF = maboss.copy_and_update_parameters(model_WT_noTNF, params)\n",
    "\n",
    "    \n",
    "    # Run UpPMaBoSS on the modified setup\n",
    "    rwd = \"%s_noTNF_R%s\" % (workdir, ratio)\n",
    "    #uppModel_step_noTNF = maboss.UpdatePopulation(step_model_noTNF, step_upp_file)\n",
    "    uppModel_step_noTNF = maboss.UpdatePopulation(step_model_noTNF, upp_file)\n",
    "    uppModel_step_noTNF.setStepNumber(48*ratio)\n",
    "    \n",
    "    run_step_noTNF = uppModel_step_noTNF.run(rwd)\n",
    "    upp_sims.append(run_step_noTNF)\n",
    "    \n",
    "    \n",
    "    pop_ratios = run_step_noTNF.get_population_ratios()\n",
    "    pop_ratios = pop_ratios[1:]\n",
    "\n",
    "    time_steps = []\n",
    "    pop_ratio_steps = []\n",
    "    for step, pop_ratio in pop_ratios.items():\n",
    "        time_steps.append(int(step)*max_time/ratio)\n",
    "        pop_ratio_steps.append(float(pop_ratio))\n",
    "    ax.plot(time_steps,pop_ratio_steps,'k.-',label='Time Step = '+str(1/ratio),c=color)\n",
    "\n",
    "\n",
    "ax.legend(loc='upper right',prop={'size':8})\n",
    "plt.show()\n"
   ]
  },
  {
   "cell_type": "markdown",
   "metadata": {},
   "source": [
    "The different time step values show very little differences. \n",
    "\n",
    "A plot of the behavior between time = 0 and time = 10 is shown below."
   ]
  },
  {
   "cell_type": "code",
   "execution_count": null,
   "metadata": {},
   "outputs": [],
   "source": [
    "fig, ax = plt.subplots()\n",
    "for i, (ratio,color) in enumerate(ratios.items()):\n",
    "    pop_ratios = upp_sims[i].get_population_ratios()\n",
    "    pop_ratios = pop_ratios[1:]\n",
    "    \n",
    "    time_steps = []\n",
    "    pop_ratio_steps = []\n",
    "    for step, pop_ratio in pop_ratios.items():\n",
    "        time_steps.append(int(step)*max_time/ratio)\n",
    "        pop_ratio_steps.append(float(pop_ratio))\n",
    "    ax.plot(time_steps,pop_ratio_steps,'k.-',label='Time Step = '+str(1/ratio),c=color)\n",
    "plt.xlim(0,10)\n",
    "ax.legend(loc='upper right',prop={'size':8})\n",
    "plt.show()"
   ]
  }
 ],
 "metadata": {
  "kernelspec": {
   "display_name": "Python 3",
   "language": "python",
   "name": "python3"
  },
  "language_info": {
   "codemirror_mode": {
    "name": "ipython",
    "version": 3
   },
   "file_extension": ".py",
   "mimetype": "text/x-python",
   "name": "python",
   "nbconvert_exporter": "python",
   "pygments_lexer": "ipython3",
   "version": "3.6.8"
  }
 },
 "nbformat": 4,
 "nbformat_minor": 2
}
