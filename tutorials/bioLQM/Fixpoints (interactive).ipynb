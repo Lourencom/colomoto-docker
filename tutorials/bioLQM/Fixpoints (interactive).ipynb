{
 "cells": [
  {
   "cell_type": "markdown",
   "metadata": {},
   "source": [
    "This notebook shows how to use `biolqm` to upload a model and compute its fixpoints."
   ]
  },
  {
   "cell_type": "code",
   "execution_count": 1,
   "metadata": {},
   "outputs": [],
   "source": [
    "from colomoto_jupyter import tabulate\n",
    "import biolqm"
   ]
  },
  {
   "cell_type": "markdown",
   "metadata": {},
   "source": [
    "You can upload a model in any format supported by `bioLQM` (see https://github.com/colomoto/bioLQM#how-to-use-it), including GINsim (`.zginml` or `.ginml` files) and SBML-qual (`.sbml` files)."
   ]
  },
  {
   "cell_type": "code",
   "execution_count": 2,
   "metadata": {},
   "outputs": [
    {
     "data": {
      "text/html": [
       "<input type=\"file\" id=\"colomoto-loading-7304474\"\n",
       "        onchange=\"colomoto_upload(Jupyter, 'colomoto-loading-7304474', this,\n",
       "            'colomoto_default_upload_callback', 'upload', 'load')\">"
      ],
      "text/plain": [
       "<IPython.core.display.HTML object>"
      ]
     },
     "metadata": {},
     "output_type": "display_data"
    }
   ],
   "source": [
    "lqm = biolqm.upload()"
   ]
  },
  {
   "cell_type": "markdown",
   "metadata": {},
   "source": [
    "The following cell code computes the fixpoints, and use `tabulate` to display the resulting table."
   ]
  },
  {
   "cell_type": "code",
   "execution_count": null,
   "metadata": {},
   "outputs": [],
   "source": [
    "fps = biolqm.fixpoints(lqm)\n",
    "tabulate(fps)"
   ]
  },
  {
   "cell_type": "code",
   "execution_count": null,
   "metadata": {
    "collapsed": true
   },
   "outputs": [],
   "source": []
  }
 ],
 "metadata": {
  "kernelspec": {
   "display_name": "Python 3",
   "language": "python3",
   "name": "python3"
  },
  "language_info": {
   "codemirror_mode": {
    "name": "ipython",
    "version": 3
   },
   "file_extension": ".py",
   "mimetype": "text/x-python",
   "name": "python",
   "nbconvert_exporter": "python",
   "pygments_lexer": "ipython3",
   "version": "3.6.6"
  }
 },
 "nbformat": 4,
 "nbformat_minor": 2
}
