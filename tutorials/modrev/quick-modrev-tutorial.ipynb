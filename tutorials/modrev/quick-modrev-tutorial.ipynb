{
 "cells": [
  {
   "cell_type": "markdown",
   "id": "e1501c69-a4d5-45c7-9bbf-b0abf4f25a8f",
   "metadata": {},
   "source": [
    "## PyModrev Quick Tutorial"
   ]
  },
  {
   "cell_type": "markdown",
   "id": "9807c1b4-14fd-4240-b25c-0450a6d64cf3",
   "metadata": {},
   "source": [
    "This document aims at giving a brief tutorial for Pint usage through its Python Interface."
   ]
  },
  {
   "cell_type": "markdown",
   "id": "47d1f24d-b972-4eab-b813-647a4354620a",
   "metadata": {},
   "source": [
    "First, lets import the module:"
   ]
  },
  {
   "cell_type": "code",
   "execution_count": 1,
   "id": "f7a8c540-4299-48db-9613-123a5ef17f80",
   "metadata": {},
   "outputs": [],
   "source": [
    "import pymodrev"
   ]
  },
  {
   "cell_type": "markdown",
   "id": "f7366727-7a0a-4525-a595-dd718a77e7d4",
   "metadata": {},
   "source": [
    "### Loading a Model\n",
    "\n",
    "PyModrev loads models with the output format given by ModRev."
   ]
  },
  {
   "cell_type": "code",
   "execution_count": 3,
   "id": "5c8c351e-22c6-4b65-a75b-b9d13a1efd96",
   "metadata": {},
   "outputs": [],
   "source": [
    "model = pymodrev.load('filename.lp')"
   ]
  },
  {
   "cell_type": "markdown",
   "id": "f1a1b702-5e6a-4be3-a6fd-dbeaf4bbe31d",
   "metadata": {},
   "source": [
    "## Showing current state"
   ]
  },
  {
   "cell_type": "code",
   "execution_count": 4,
   "id": "7ab7af63-893d-48f8-81f6-1656ffae43e4",
   "metadata": {},
   "outputs": [
    {
     "name": "stdout",
     "output_type": "stream",
     "text": [
      "Nodes:\n",
      "v1\n",
      "v2\n",
      "v3\n",
      "\n",
      "Edges:\n",
      "('v1', 'v2', 1)\n",
      "('v1', 'v3', 1)\n",
      "('v2', 'v1', 1)\n",
      "('v3', 'v1', 1)\n",
      "('v3', 'v2', 0)\n",
      "\n",
      "Functions:\n",
      "('Or', 'v1', ('1..1',))\n",
      "('And', 'v1', ('1', 'v2'))\n",
      "('And', 'v1', ('1', 'v3'))\n",
      "('Or', 'v2', ('1..2',))\n",
      "('And', 'v2', ('1', 'v1'))\n",
      "('And', 'v2', ('2', 'v3'))\n",
      "('Or', 'v3', ('1..1',))\n",
      "('And', 'v3', ('1', 'v1'))\n"
     ]
    }
   ],
   "source": [
    "model.show_state()"
   ]
  },
  {
   "cell_type": "markdown",
   "id": "9238ea6e-f918-4422-86f4-a3b0686a7d24",
   "metadata": {},
   "source": [
    "### Creating a Model"
   ]
  },
  {
   "cell_type": "code",
   "execution_count": 5,
   "id": "29ca0976-c792-4f26-a2b9-de8f9c7cd0d7",
   "metadata": {},
   "outputs": [],
   "source": [
    "model = pymodrev.ModRevModel()"
   ]
  },
  {
   "cell_type": "markdown",
   "id": "149ccd52-abe8-4b75-87b8-c41ff1af8a27",
   "metadata": {},
   "source": [
    "## Adding nodes, edges, and functions"
   ]
  },
  {
   "cell_type": "code",
   "execution_count": 6,
   "id": "d3dc069b-b750-4534-9eaa-452aa0f86c8a",
   "metadata": {},
   "outputs": [],
   "source": [
    "model.add_node('v1')\n",
    "model.add_node('v2')"
   ]
  },
  {
   "cell_type": "code",
   "execution_count": 7,
   "id": "513fdfec-7400-45da-91e2-a2bb09f81e92",
   "metadata": {},
   "outputs": [],
   "source": [
    "model.add_edge('v1', 'v2', 1)"
   ]
  },
  {
   "cell_type": "code",
   "execution_count": 8,
   "id": "91cf06dc-31be-436b-9cca-d97fbcb46027",
   "metadata": {},
   "outputs": [],
   "source": [
    "model.add_function('AND', 'v1', 'v2', '1')"
   ]
  },
  {
   "cell_type": "code",
   "execution_count": 9,
   "id": "3acd8024-4930-4a93-84ac-3be1cff58b47",
   "metadata": {},
   "outputs": [
    {
     "name": "stdout",
     "output_type": "stream",
     "text": [
      "Nodes:\n",
      "v1\n",
      "v2\n",
      "\n",
      "Edges:\n",
      "('v1', 'v2', 1)\n",
      "\n",
      "Functions:\n",
      "('AND', 'v1', ('v2', '1'))\n"
     ]
    }
   ],
   "source": [
    "model.show_state()"
   ]
  },
  {
   "cell_type": "code",
   "execution_count": null,
   "id": "90de7e79-99d9-4ca9-b72d-1d8ba3e80cd9",
   "metadata": {},
   "outputs": [],
   "source": []
  }
 ],
 "metadata": {
  "kernelspec": {
   "display_name": "Python 3 (ipykernel)",
   "language": "python",
   "name": "python3"
  },
  "language_info": {
   "codemirror_mode": {
    "name": "ipython",
    "version": 3
   },
   "file_extension": ".py",
   "mimetype": "text/x-python",
   "name": "python",
   "nbconvert_exporter": "python",
   "pygments_lexer": "ipython3",
   "version": "3.11.5"
  }
 },
 "nbformat": 4,
 "nbformat_minor": 5
}
